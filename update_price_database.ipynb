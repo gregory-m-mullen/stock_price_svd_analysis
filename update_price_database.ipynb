{
 "cells": [
  {
   "cell_type": "markdown",
   "metadata": {},
   "source": [
    "# Database generation/update\n",
    "Make a list of all the symbols to be included in the database"
   ]
  },
  {
   "cell_type": "code",
   "execution_count": 1,
   "metadata": {},
   "outputs": [],
   "source": [
    "import pandas as pd\n",
    "\n",
    "nyse_symbols = pd.read_csv('data/nyse_symbols.csv')\n",
    "nyse_symbols = nyse_symbols['ACT Symbol'].tolist()\n",
    "nasdaq_symbols = pd.read_csv('data/nasdaq_symbols.csv')\n",
    "nasdaq_symbols = nasdaq_symbols['Symbol'].tolist()\n",
    "etf_symbols = pd.read_csv('data/etf_symbols.csv')\n",
    "etf_symbols = etf_symbols['Symbol'].tolist()\n",
    "\n",
    "symbols = nyse_symbols + nasdaq_symbols + etf_symbols\n",
    "\n",
    "symbols = [x for x in symbols if '$' not in x]\n",
    "symbols = [x.replace('.','-') for x in symbols]"
   ]
  },
  {
   "cell_type": "markdown",
   "metadata": {},
   "source": [
    "Iterate through every symbol in the symbols list pulling daily price data from Yahoo Finance for a given time period\n",
    "<br>\n",
    "This operation takes a very long time to run (several hours), as the Yahoo API limits pull requests/hr from a given IP address. It will periodically print updates to show the number of symbols for which data has been queried and the number remaining to be queried."
   ]
  },
  {
   "cell_type": "code",
   "execution_count": 2,
   "metadata": {},
   "outputs": [],
   "source": [
    "from StockMarketAnalysis import CollectData\n",
    "\n",
    "period = 'max' # valid periods: 1d,5d,1mo,3mo,6mo,1y,2y,5y,10y,ytd,max\n",
    "path = 'data/individual'\n",
    "CollectData().update_database(symbols=symbols,path=path,period=period,overwrite=True)"
   ]
  },
  {
   "cell_type": "markdown",
   "metadata": {},
   "source": [
    "Compile the individual price charts into a dataframe that can be used in the SVD analysis notebook and save as a csv file."
   ]
  },
  {
   "cell_type": "code",
   "execution_count": 7,
   "metadata": {},
   "outputs": [
    {
     "name": "stdout",
     "output_type": "stream",
     "text": [
      "Stocks processed: 500\n",
      "Stocks processed: 1000\n",
      "Stocks processed: 1500\n",
      "Stocks processed: 2000\n",
      "Stocks processed: 2500\n",
      "Stocks processed: 3000\n",
      "Stocks processed: 3500\n",
      "Stocks processed: 4000\n"
     ]
    }
   ],
   "source": [
    "df = CollectData().read_database(path='data/individual').prices\n",
    "df.index.name = 'Date'\n",
    "df.to_csv('data/stock_price_compilation.csv')"
   ]
  },
  {
   "cell_type": "code",
   "execution_count": null,
   "metadata": {},
   "outputs": [],
   "source": []
  }
 ],
 "metadata": {
  "kernelspec": {
   "display_name": "Python 3",
   "language": "python",
   "name": "python3"
  },
  "language_info": {
   "codemirror_mode": {
    "name": "ipython",
    "version": 3
   },
   "file_extension": ".py",
   "mimetype": "text/x-python",
   "name": "python",
   "nbconvert_exporter": "python",
   "pygments_lexer": "ipython3",
   "version": "3.7.4"
  }
 },
 "nbformat": 4,
 "nbformat_minor": 2
}
